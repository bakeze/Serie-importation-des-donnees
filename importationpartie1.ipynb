{
 "cells": [
  {
   "cell_type": "markdown",
   "id": "bde73ae4-e740-42ca-a7dd-675e27436b50",
   "metadata": {},
   "source": [
    "# IMPORTER SES DONNEES : TOP 10 TYPES DE FICHIERS"
   ]
  },
  {
   "cell_type": "markdown",
   "id": "29dcae40-2cbc-4c3b-b511-e3668dbbb3ef",
   "metadata": {},
   "source": [
    "Pour importer des données dans un dataset en Python, plusieurs formats peuvent être utilisés, et il existe diverses méthodes pour chaque format. Les formats de fichiers couramment utilisés incluent CSV, Excel, SQL, JSON, Parquet, et plus encore. Voici un aperçu des formats et des méthodes d'importation disponibles."
   ]
  },
  {
   "cell_type": "markdown",
   "id": "1145d2b1-5cce-4f7a-8df9-692b65da0a4c",
   "metadata": {
    "tags": []
   },
   "source": [
    "1. CSV (Comma Separated Values)\n",
    "\n",
    "- Méthode: `pd.read_csv()`\n"
   ]
  },
  {
   "cell_type": "code",
   "execution_count": null,
   "id": "f5a523fb-6606-4634-b8c1-3b77137613d4",
   "metadata": {},
   "outputs": [],
   "source": [
    "import pandas as pd\n",
    "df = pd.read_csv('path/to/your/file.csv')"
   ]
  },
  {
   "cell_type": "markdown",
   "id": "d2405934-2f07-4cb7-9287-55f0ea5626a9",
   "metadata": {},
   "source": [
    "2. Excel\n",
    "- Méthode: `pd.read_excel()`"
   ]
  },
  {
   "cell_type": "code",
   "execution_count": null,
   "id": "7e1b1330-fdb9-43bf-8d7e-39b10fe23c5d",
   "metadata": {},
   "outputs": [],
   "source": [
    "import pandas as pd\n",
    "df = pd.read_excel('path/to/your/file.xlsx', sheet_name='Sheet1')"
   ]
  },
  {
   "cell_type": "markdown",
   "id": "8cc94b8d-7465-4cc8-b9f2-e664049d647e",
   "metadata": {},
   "source": [
    "3. SQL\n",
    "- Méthode: `pd.read_sql(), pd.read_sql_query(), pd.read_sql_table()`"
   ]
  },
  {
   "cell_type": "code",
   "execution_count": null,
   "id": "6eb5fa9e-23dd-441e-8fb5-f3b0df9115bb",
   "metadata": {},
   "outputs": [],
   "source": [
    "import pandas as pd\n",
    "import sqlite3\n",
    "conn = sqlite3.connect('database.db')\n",
    "df = pd.read_sql_query('SELECT * FROM table_name', conn)"
   ]
  },
  {
   "cell_type": "markdown",
   "id": "9b604621-6a0f-46b6-a496-9f2e52acf4e4",
   "metadata": {
    "tags": []
   },
   "source": [
    "4. JSON\n",
    "- Méthode: `pd.read_json()`"
   ]
  },
  {
   "cell_type": "code",
   "execution_count": null,
   "id": "9db669b7-a371-4880-b33f-2664fd56dcb2",
   "metadata": {},
   "outputs": [],
   "source": [
    "import pandas as pd\n",
    "df = pd.read_json('path/to/your/file.json')"
   ]
  },
  {
   "cell_type": "markdown",
   "id": "f687b94f-dd68-4830-8826-4bb9a0798e8d",
   "metadata": {
    "tags": []
   },
   "source": [
    "5. HTML\n",
    "- Méthode: `pd.read_html()`"
   ]
  },
  {
   "cell_type": "code",
   "execution_count": 25,
   "id": "88ec761c-cfc0-404b-8fc8-09c27748ac21",
   "metadata": {
    "tags": []
   },
   "outputs": [],
   "source": [
    "import pandas as pd\n",
    "df_list = pd.read_html('http://example.com')\n",
    "df = df_list[0]  # assuming the first table is needed"
   ]
  },
  {
   "cell_type": "markdown",
   "id": "ca0d9bab-fb59-4250-b5ae-9fe8f966a988",
   "metadata": {
    "tags": []
   },
   "source": [
    "6. Parquet\n",
    "- Méthode: `pd.read_parquet()`"
   ]
  },
  {
   "cell_type": "code",
   "execution_count": null,
   "id": "48514cef-67f6-475a-b76f-158889ab6582",
   "metadata": {},
   "outputs": [],
   "source": [
    "import pandas as pd\n",
    "df = pd.read_parquet('path/to/your/file.parquet')"
   ]
  },
  {
   "cell_type": "markdown",
   "id": "5db7d418-e14f-44a5-99e9-e84409170679",
   "metadata": {
    "tags": []
   },
   "source": [
    "7. HDF5\n",
    "- Méthode: `pd.read_hdf()`"
   ]
  },
  {
   "cell_type": "code",
   "execution_count": null,
   "id": "222a28d7-65a8-4cf3-a61d-db29b7dfc257",
   "metadata": {},
   "outputs": [],
   "source": [
    "import pandas as pd\n",
    "df = pd.read_hdf('path/to/your/file.h5', key='dataset_name')"
   ]
  },
  {
   "cell_type": "markdown",
   "id": "33865ea2-5b8a-48f4-8700-8a1bf4ef7f0a",
   "metadata": {
    "tags": []
   },
   "source": [
    "8. Feather\n",
    "- Méthode: `pd.read_feather()`"
   ]
  },
  {
   "cell_type": "code",
   "execution_count": null,
   "id": "86770e4c-ec6c-48e6-8dc6-a05c47ab5c1b",
   "metadata": {},
   "outputs": [],
   "source": [
    "import pandas as pd\n",
    "df = pd.read_feather('path/to/your/file.feather')"
   ]
  },
  {
   "cell_type": "markdown",
   "id": "50148694-c8a1-41b5-a2f8-ee6d7c1a8834",
   "metadata": {
    "tags": []
   },
   "source": [
    "9. Clipboard\n",
    "- Méthode: `pd.read_clipboard()`"
   ]
  },
  {
   "cell_type": "code",
   "execution_count": null,
   "id": "de73d502-100d-4e9b-bb8e-fe6599258daa",
   "metadata": {},
   "outputs": [],
   "source": [
    "import pandas as pd\n",
    "df = pd.read_clipboard()"
   ]
  },
  {
   "cell_type": "markdown",
   "id": "13697271-eda6-4579-ab34-4c16ba4fee6d",
   "metadata": {
    "tags": []
   },
   "source": [
    "10. Pickle\n",
    "- Méthode: `pd.read_pickle()`"
   ]
  },
  {
   "cell_type": "code",
   "execution_count": null,
   "id": "428d2000-68a9-4edd-9ca8-019b66232887",
   "metadata": {},
   "outputs": [],
   "source": [
    "import pandas as pd\n",
    "df = pd.read_pickle('path/to/your/file.pkl')"
   ]
  },
  {
   "cell_type": "markdown",
   "id": "51be64e0-5eec-42bc-8bc3-5fb5de11d60d",
   "metadata": {},
   "source": [
    "## Un petit bonus pour toi ! \n",
    "\n",
    "Ressources pour apprendre à importer des données dans Pandas\n",
    "\n",
    "Documentation officielle de Pandas:\n",
    "\n",
    "- [Lecture de fichiers CSV](https://pandas.pydata.org/docs/reference/api/pandas.read_csv.html)\n",
    "- [Lecture de fichiers Excel](https://pandas.pydata.org/docs/reference/api/pandas.read_excel.html)\n",
    "- [Lecture de fichiers SQL](https://pandas.pydata.org/docs/reference/api/pandas.read_sql.html)\n",
    "- [Lecture de fichiers JSON](https://pandas.pydata.org/docs/reference/api/pandas.read_json.html)\n",
    "- [Lecture de fichiers HTML](https://pandas.pydata.org/docs/reference/api/pandas.read_html.html)\n",
    "- [Lecture de fichiers HDF5](https://pandas.pydata.org/pandas-docs/dev/generated/pandas.read_hdf.html)\n",
    "- [Lecture de fichiers Feather](https://pandas.pydata.org/docs/reference/api/pandas.read_feather.html)\n",
    "- [Lecture de fichiers Parquet](https://pandas.pydata.org/docs/reference/api/pandas.read_parquet.html)\n",
    "- [Lecture de fichiers Stata](https://pandas.pydata.org/docs/reference/api/pandas.read_stata.html)\n",
    "- [Lecture de fichiers SAS](https://pandas.pydata.org/docs/reference/api/pandas.read_sas.html)\n",
    "- [Lecture de fichiers SPSS](https://pandas.pydata.org/docs/reference/api/pandas.read_spss.html)\n",
    "- [Lecture de fichiers Google BigQuery SQL](https://cloud.google.com/bigquery/docs/python-libraries)\n",
    "\n",
    "## Tutoriels sur l'importation de données avec Pandas:\n",
    "\n",
    "- [Tutoriel sur la manipulation de données avec Pandas](https://realpython.com/courses/explore-dataset-with-pandas/)\n",
    "- [10 minutes pour apprendre Pandas](https://www.dataquest.io/course/pandas-fundamentals/)\n",
    "- [Tutoriel sur l'importation de données avec Pandas](https://www.geeksforgeeks.org/pandas-tutorial/)"
   ]
  },
  {
   "cell_type": "markdown",
   "id": "27f2496e-59ba-437e-b193-4ecd0002afda",
   "metadata": {},
   "source": [
    "# Like 👍, Partage 🔄 et laisse un commentaire 💬"
   ]
  }
 ],
 "metadata": {
  "kernelspec": {
   "display_name": "Python 3 (ipykernel)",
   "language": "python",
   "name": "python3"
  },
  "language_info": {
   "codemirror_mode": {
    "name": "ipython",
    "version": 3
   },
   "file_extension": ".py",
   "mimetype": "text/x-python",
   "name": "python",
   "nbconvert_exporter": "python",
   "pygments_lexer": "ipython3",
   "version": "3.11.5"
  }
 },
 "nbformat": 4,
 "nbformat_minor": 5
}
